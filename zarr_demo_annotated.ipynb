{
 "cells": [
  {
   "cell_type": "markdown",
   "id": "731f28e8",
   "metadata": {},
   "source": [
    "# Zarr v3 Demo\n",
    "\n",
    "**What we will discuss**\n",
    "- Create arrays and groups in a Zarr store\n",
    "- Store/read JSON metadata via attributes\n",
    "- Configure chunking and compression (codec pipeline)\n",
    "- Work with ZIP stores\n"
   ]
  },
  {
   "cell_type": "markdown",
   "id": "fb53efc8",
   "metadata": {},
   "source": [
    "## Imports"
   ]
  },
  {
   "cell_type": "code",
   "execution_count": 1,
   "id": "f904f62b",
   "metadata": {},
   "outputs": [
    {
     "name": "stdout",
     "output_type": "stream",
     "text": [
      "Python: 3.12.11\n",
      "Platform: macOS-15.6.1-x86_64-i386-64bit\n",
      "NumPy: 2.3.2\n",
      "Zarr: 3.1.2\n"
     ]
    }
   ],
   "source": [
    "# Environment check — versions & runtime\n",
    "import sys, platform\n",
    "import numpy as np\n",
    "import zarr\n",
    "\n",
    "print(\"Python:\", sys.version.split()[0])\n",
    "print(\"Platform:\", platform.platform())\n",
    "print(\"NumPy:\", np.__version__)\n",
    "print(\"Zarr:\", zarr.__version__)\n"
   ]
  },
  {
   "cell_type": "markdown",
   "id": "d98929fe",
   "metadata": {},
   "source": [
    "## Create a store"
   ]
  },
  {
   "cell_type": "code",
   "execution_count": 2,
   "id": "3b162865",
   "metadata": {},
   "outputs": [
    {
     "name": "stdout",
     "output_type": "stream",
     "text": [
      "Data written to Zarr store 'random_example.zarr'.\n",
      "Data written to Zarr store 'sparse_example.zarr'.\n"
     ]
    }
   ],
   "source": [
    "# Set Zarr version to use (2 or 3)\n",
    "ZARRVERSION = 3  # Specify Zarr version\n",
    "\n",
    "# Create data to store in the Zarr store\n",
    "data = np.random.rand(100, 100).astype('float32')\n",
    "\n",
    "# Create a larger sparse array\n",
    "sparse_data = np.random.rand(1000, 1000).astype('float32')\n",
    "sparse_data[sparse_data < 0.8] = 0  # Make it sparse\n",
    "\n",
    "rnd_fpath = 'Testing/random_example.zarr'\n",
    "sparse_fpath = 'Testing/sparse_example.zarr'\n",
    "# For Zarr v3, use codecs instead of compressor\n",
    "if ZARRVERSION == 2:\n",
    "    \"\"\" \n",
    "    Customise compressor OPTIONAL it might improve compression rate\n",
    "    \"\"\"\n",
    "    compressor = zarr.Blosc(cname='zstd', clevel=3, shuffle=2)\n",
    "    zarr_store = zarr.open(rnd_fpath, mode='w', shape=data.shape, dtype=data.dtype, compressor=compressor, chunks=(50, 50))\n",
    "    sparse_zarr_store = zarr.open(sparse_fpath, mode='w', shape=sparse_data.shape, dtype=sparse_data.dtype, compressor=compressor, chunks=(100, 100))\n",
    "\n",
    "else:\n",
    "    \"\"\"\n",
    "    # OPTIONAL codecs configuration for Zarr v3\n",
    "    from zarr.codecs import BytesCodec, BloscCodec, BloscCname, BloscShuffle\n",
    "    codecs = [BytesCodec(endian='little'),\n",
    "              BloscCodec(cname=BloscCname.zstd,\n",
    "                         clevel=3,\n",
    "                         shuffle=BloscShuffle.bitshuffle,\n",
    "                         typesize=4)\n",
    "              ]\n",
    "    zarr_store = zarr.open('example.zarr', mode='w', shape=data.shape, dtype=data.dtype, codecs=codecs)\n",
    "    \"\"\"\n",
    "    zarr_store = zarr.open(rnd_fpath, mode='w', shape=data.shape, dtype=data.dtype)\n",
    "    sparse_zarr_store = zarr.open(sparse_fpath, mode='w', shape=sparse_data.shape, dtype=sparse_data.dtype)\n",
    "\n",
    "zarr_store[:] = data\n",
    "sparse_zarr_store[:] = sparse_data\n",
    "\n",
    "print(\"Data written to Zarr store 'random_example.zarr'.\")\n",
    "print(\"Data written to Zarr store 'sparse_example.zarr'.\")\n"
   ]
  },
  {
   "cell_type": "markdown",
   "id": "9f549446",
   "metadata": {},
   "source": [
    "### Explanation of Zarr Store Creation\n",
    "\n",
    "```python\n",
    "zarr.open(\n",
    "    'example.zarr',\n",
    "    mode='w',\n",
    "    shape=data.shape,\n",
    "    dtype=data.dtype,\n",
    "    compressor=zarr.Blosc(cname='zstd', clevel=3, shuffle=2),\n",
    "    chunks=(50, 50)  # Optional: specify chunk size\n",
    ")\n",
    "```\n",
    "\n",
    "- **'example.zarr'**: Path to the Zarr store on disk.\n",
    "- **mode='w'**: Write mode; creates a new store or overwrites an existing one.\n",
    "- **shape=data.shape**: Shape of the array to store (e.g., (100, 100)).\n",
    "- **dtype=data.dtype**: Data type of the array (e.g., float32).\n",
    "- **compressor=zarr.Blosc(...)**: Use Blosc compressor with Zstandard codec, compression level 3, and byte shuffling.\n",
    "- **chunks=(50, 50)**: (Optional) Store data in 50x50 blocks for efficient access and better compression.\n",
    "\n",
    "**Codecs reference**: [Zarr Codecs Documentation](https://zarr-specs.readthedocs.io/en/latest/v3/codecs/index.html)\n",
    "\n",
    "**Using chunks is recommended** for large arrays, as it might improve read/write performance and compression.\n",
    "\n",
    "To determine optimal chunk size, consider the access patterns of your data and experiment with different sizes."
   ]
  },
  {
   "cell_type": "markdown",
   "id": "2eb70570",
   "metadata": {},
   "source": [
    "## Load the data from the Zarr store"
   ]
  },
  {
   "cell_type": "code",
   "execution_count": 3,
   "id": "fe795b99",
   "metadata": {},
   "outputs": [
    {
     "name": "stdout",
     "output_type": "stream",
     "text": [
      "Data loaded from Zarr store 'sparse_example.zarr':\n",
      "[[0.         0.         0.9356636  ... 0.         0.9549631  0.        ]\n",
      " [0.         0.         0.         ... 0.9292909  0.9676499  0.94326913]\n",
      " [0.         0.         0.         ... 0.         0.8459375  0.        ]\n",
      " ...\n",
      " [0.         0.         0.         ... 0.88472307 0.         0.        ]\n",
      " [0.         0.         0.83324087 ... 0.         0.         0.        ]\n",
      " [0.9681366  0.         0.         ... 0.         0.         0.        ]]\n"
     ]
    }
   ],
   "source": [
    "# Load data from the Zarr store\n",
    "loaded_data = zarr.open('Testing/sparse_example.zarr', mode='r')\n",
    "print(\"Data loaded from Zarr store 'sparse_example.zarr':\")\n",
    "print(loaded_data[:])"
   ]
  },
  {
   "cell_type": "markdown",
   "id": "c2716382",
   "metadata": {},
   "source": [
    "## Compare size of compressed vs uncompressed data"
   ]
  },
  {
   "cell_type": "code",
   "execution_count": 4,
   "id": "29a8fce3",
   "metadata": {},
   "outputs": [
    {
     "name": "stdout",
     "output_type": "stream",
     "text": [
      "Original data size: 40000 bytes\n",
      "Zarr stored data size: 36441 bytes\n",
      "Compression rate for dense data: 8.90%\n",
      "Sparse original data size: 4000000 bytes\n",
      "Sparse Zarr stored data size: 962648 bytes\n",
      "Compression rate for sparse data: 75.93%\n"
     ]
    }
   ],
   "source": [
    "# Compare size of compressed vs uncompressed data\n",
    "original_size = data.nbytes\n",
    "zarr_size = zarr_store.nbytes_stored() if ZARRVERSION == 3 else zarr_store.nbytes_stored\n",
    "sparse_original_size = sparse_data.nbytes\n",
    "sparse_zarr_size = sparse_zarr_store.nbytes_stored() if ZARRVERSION == 3 else sparse_zarr_store.nbytes_stored\n",
    "print(f\"Original data size: {original_size} bytes\")\n",
    "print(f\"Zarr stored data size: {zarr_size} bytes\")\n",
    "print(\"Compression rate for dense data: {:.2f}%\".format((1 - zarr_size / original_size) * 100))\n",
    "print(f\"Sparse original data size: {sparse_original_size} bytes\")\n",
    "print(f\"Sparse Zarr stored data size: {sparse_zarr_size} bytes\")\n",
    "print(\"Compression rate for sparse data: {:.2f}%\".format((1 - sparse_zarr_size / sparse_original_size) * 100))"
   ]
  },
  {
   "cell_type": "markdown",
   "id": "0740b6bb",
   "metadata": {},
   "source": [
    "## Grouped stores\n",
    "- Create a hierarchy of arrays in a single Zarr store\n",
    "- Create groups (like folders) in the Zarr hierarchy"
   ]
  },
  {
   "cell_type": "code",
   "execution_count": 6,
   "id": "70a22ab5",
   "metadata": {},
   "outputs": [
    {
     "name": "stdout",
     "output_type": "stream",
     "text": [
      "Data written to Zarr store 'grouped_example.zarr' with groups and datasets.\n"
     ]
    }
   ],
   "source": [
    "# Create a group structure in Zarr V2 or V3\n",
    "if ZARRVERSION == 2:\n",
    "    root = zarr.open('Testing/grouped_example.zarr', mode='w')\n",
    "    group1 = root.create_group('group1')\n",
    "\n",
    "    group1.create_dataset('data1', data=np.random.rand(50, 50).astype('float32'))\n",
    "    group1.create_dataset('data2', data=np.random.rand(30, 30).astype('float32'))\n",
    "    group2 = root.create_group('group2')\n",
    "    group2.create_dataset('data3', data=np.random.rand(20, 20).astype('float32'))\n",
    "\n",
    "    print(\"Data written to Zarr store 'grouped_example.zarr' with groups and datasets.\")\n",
    "else:\n",
    "    root = zarr.open('Testing/grouped_example.zarr', mode='w')\n",
    "    group1 = root.create_group('group1')\n",
    "    group2 = root.create_group('group2')\n",
    "\n",
    "    # Always specify shape for v3, and use create_array (recommended)\n",
    "    group1.create_array('data1', data=np.random.rand(50, 50).astype('float32'))\n",
    "    group1.create_array('data2', data=np.random.rand(30, 30).astype('float32'))\n",
    "    group2.create_array('data3', data=np.random.rand(20, 20).astype('float32'))\n",
    "\n",
    "    print(\"Data written to Zarr store 'grouped_example.zarr' with groups and datasets.\")"
   ]
  },
  {
   "cell_type": "markdown",
   "id": "c5ec4d8c",
   "metadata": {},
   "source": [
    "## Set or read JSON attributes (metadata) in the grouped Zarr store"
   ]
  },
  {
   "cell_type": "code",
   "execution_count": 7,
   "id": "9ec15809",
   "metadata": {},
   "outputs": [
    {
     "name": "stdout",
     "output_type": "stream",
     "text": [
      "Metadata added to 'grouped_example.zarr':\n",
      "{'description': 'This is a grouped Zarr store example', 'version': '1.0'}\n",
      "Metadata for group1:\n",
      "{'group_info': 'This is group 1', 'num_datasets': 2}\n"
     ]
    }
   ],
   "source": [
    "# Add metadata to a grouped Zarr store zarr specifications v2 (...and v3?)\n",
    "root.attrs['description'] = 'This is a grouped Zarr store example'\n",
    "root.attrs['version'] = '1.0'\n",
    "print(\"Metadata added to 'grouped_example.zarr':\")\n",
    "print(root.attrs.asdict())\n",
    "\n",
    "group1.attrs['group_info'] = 'This is group 1'\n",
    "group1.attrs['num_datasets'] = 2\n",
    "print(\"Metadata for group1:\")\n",
    "print(group1.attrs.asdict())"
   ]
  },
  {
   "cell_type": "markdown",
   "id": "b17b6d6e",
   "metadata": {},
   "source": [
    "## Compare write and load times with pillow and zarr"
   ]
  },
  {
   "cell_type": "code",
   "execution_count": null,
   "id": "f55b244d",
   "metadata": {},
   "outputs": [
    {
     "name": "stdout",
     "output_type": "stream",
     "text": [
      "Random RGB image saved and loaded using Pillow.\n",
      "Save time: 0.2392 seconds\n",
      "Load time: 0.0432 seconds\n",
      "Random RGB image saved and loaded using Zarr.\n",
      "Zarr save time: 0.0154 seconds\n",
      "Zarr load time: 0.0058 seconds\n",
      "Zarr load time gain: 7.48 X\n"
     ]
    }
   ],
   "source": [
    "from time import time # Import time for performance measurement\n",
    "from PIL import Image # Pillow is the standard Python Imaging Library\n",
    "\n",
    "# Create a random rgb image 1024 x 1024 x 3, int 8\n",
    "rgb_image = np.random.randint(0, 256, size=(1024, 1024, 3), dtype=np.uint8)\n",
    "\n",
    "# Use pillow to save and load the image\n",
    "img = Image.fromarray(rgb_image)\n",
    "start_time = time()\n",
    "img.save('Testing/random_image.png')\n",
    "save_time = time() - start_time\n",
    "loaded_img = Image.open('Testing/random_image.png')\n",
    "loaded_rgb_image = np.array(loaded_img)\n",
    "load_time = time() - (start_time + save_time)\n",
    "print(\"Random RGB image saved and loaded using Pillow.\")\n",
    "print(f\"Save time: {save_time:.4f} seconds\")\n",
    "print(f\"Load time: {load_time:.4f} seconds\")\n",
    "\n",
    "# Save and load the same image using Zarr\n",
    "zarr_image_store = zarr.open('Testing/random_image.zarr', \n",
    "                             mode='w', \n",
    "                             shape=rgb_image.shape, \n",
    "                             dtype=rgb_image.dtype, \n",
    "                             chunks=(512, 512, 3))\n",
    "start_time = time()\n",
    "zarr_image_store[:] = rgb_image\n",
    "zarr_save_time = time() - start_time\n",
    "start_time = time()\n",
    "loaded_zarr_image = zarr.open('Testing/random_image.zarr', mode='r')\n",
    "loaded_rgb_image_zarr = loaded_zarr_image[:]\n",
    "zarr_load_time = time() - start_time\n",
    "print(\"Random RGB image saved and loaded using Zarr.\")\n",
    "print(f\"Zarr save time: {zarr_save_time:.4f} seconds\")\n",
    "print(f\"Zarr load time: {zarr_load_time:.4f} seconds\")\n",
    "\n",
    "\n",
    "\n",
    "# Print zarr gain in load time\n",
    "load_time_gain = round(load_time / zarr_load_time, 2)\n",
    "print(f\"Zarr load time gain: {load_time_gain} X\")\n"
   ]
  },
  {
   "cell_type": "markdown",
   "id": "8b1ebaa9",
   "metadata": {},
   "source": [
    "### Benchmark read time pillow vs zarr with different images sizes"
   ]
  },
  {
   "cell_type": "code",
   "execution_count": 18,
   "id": "096f76cf",
   "metadata": {},
   "outputs": [
    {
     "name": "stderr",
     "output_type": "stream",
     "text": [
      "100%|██████████| 32/32 [00:56<00:00,  1.76s/it]\n"
     ]
    },
    {
     "data": {
      "image/png": "[encoded data removed]",
      "text/plain": [
       "<Figure size 640x480 with 2 Axes>"
      ]
     },
     "metadata": {},
     "output_type": "display_data"
    }
   ],
   "source": [
    "import numpy as np\n",
    "from PIL import Image\n",
    "import zarr\n",
    "from time import time\n",
    "import matplotlib.pyplot as plt\n",
    "from tqdm import tqdm\n",
    "\n",
    "def scan_image_io(sizes):\n",
    "    pillow_load, zarr_load, zarr_gain = [], [], []\n",
    "    for s in tqdm(sizes):\n",
    "        img = np.random.randint(0, 256, (s, s, 3), np.uint8)\n",
    "        # Pillow\n",
    "        Image.fromarray(img).save('Testing/tmp.png')\n",
    "        t0 = time(); _ = np.array(Image.open('Testing/tmp.png')); pillow_load.append(time()-t0)\n",
    "        # Zarr\n",
    "        zarr.open('Testing/tmp.zarr', mode='w', shape=img.shape, dtype=img.dtype, chunks=(s,s,3))[:] = img\n",
    "        t0 = time(); _ = zarr.open('Testing/tmp.zarr', mode='r')[:]; zarr_load.append(time()-t0)\n",
    "        zarr_gain.append(pillow_load[-1]/zarr_load[-1] if zarr_load[-1]>0 else np.nan)\n",
    "    return pillow_load, zarr_load, zarr_gain\n",
    "\n",
    "sizes = range(128, 4097, 128)\n",
    "pillow_load, zarr_load, zarr_gain = scan_image_io(sizes) \n",
    "\n",
    "plt.plot(sizes, pillow_load, 'o-', label='Pillow Load')\n",
    "plt.plot(sizes, zarr_load, 'o-', label='Zarr Load')\n",
    "plt.xlabel('Image size (pixels, one side)')\n",
    "plt.ylabel('Load time (s)')\n",
    "plt.legend(loc='upper left')\n",
    "plt.twinx().plot(sizes, zarr_gain, 'x--g', label='Zarr Load Gain')\n",
    "plt.ylabel('Zarr Load Gain (Pillow/Zarr)')\n",
    "plt.title('Image Load Time vs Size')\n",
    "plt.show()"
   ]
  },
  {
   "cell_type": "markdown",
   "id": "33d9e352",
   "metadata": {},
   "source": [
    "## Multiple processes writing on the same Zarr store (concurrently)"
   ]
  },
  {
   "cell_type": "code",
   "execution_count": 15,
   "id": "a5dd0a69",
   "metadata": {},
   "outputs": [],
   "source": [
    "import numpy as np\n",
    "import zarr\n",
    "from concurrent.futures import ThreadPoolExecutor\n",
    "from time import time"
   ]
  },
  {
   "cell_type": "code",
   "execution_count": 16,
   "id": "0011b45b",
   "metadata": {},
   "outputs": [
    {
     "name": "stdout",
     "output_type": "stream",
     "text": [
      "(100, 512, 512, 3)\n",
      "100 images written to Zarr store 'Testing/random_images.zarr' in 0.0034 seconds\n"
     ]
    }
   ],
   "source": [
    "number_of_images = 100\n",
    "\n",
    "def write_to_zarr(image_array, zarr_path):\n",
    "    root = zarr.open(zarr_path, mode='a')\n",
    "    for i in range(image_array.shape[0]):\n",
    "        root.create_array(f'image_{i}', data=image_array[i], chunks=(512, 512, 3))\n",
    "\n",
    "image_array = np.array([np.random.randint(0, 256, (512, 512, 3), np.uint8) for _ in range(number_of_images)])\n",
    "print(image_array.shape)\n",
    "\n",
    "zarr_path = 'Testing/random_images.zarr'\n",
    "start_time = time()\n",
    "with ThreadPoolExecutor() as executor:\n",
    "    executor.submit(write_to_zarr, image_array, zarr_path)\n",
    "write_time = time() - start_time\n",
    "print(f\"{number_of_images} images written to Zarr store '{zarr_path}' in {write_time:.4f} seconds\")\n"
   ]
  },
  {
   "cell_type": "markdown",
   "id": "2d298683",
   "metadata": {},
   "source": [
    "## ZipStore (single-file)"
   ]
  },
  {
   "cell_type": "code",
   "execution_count": 21,
   "id": "4b70993c",
   "metadata": {},
   "outputs": [
    {
     "name": "stdout",
     "output_type": "stream",
     "text": [
      "Wrote: Testing/snapshot.zip\n"
     ]
    }
   ],
   "source": [
    "from zarr.storage import ZipStore\n",
    "import numpy as np\n",
    "\n",
    "store = ZipStore(\"Testing/snapshot.zip\", mode=\"w\")\n",
    "za = zarr.create_array(store=store, shape=(256, 256), chunks=(64, 64), dtype=\"f4\")\n",
    "za[:] = np.ones((256, 256)).astype(\"f4\")\n",
    "store.close()\n",
    "print(\"Wrote: Testing/snapshot.zip\")"
   ]
  },
  {
   "cell_type": "code",
   "execution_count": 22,
   "id": "2cf9ef36",
   "metadata": {},
   "outputs": [
    {
     "name": "stdout",
     "output_type": "stream",
     "text": [
      "[[1. 1. 1. ... 1. 1. 1.]\n",
      " [1. 1. 1. ... 1. 1. 1.]\n",
      " [1. 1. 1. ... 1. 1. 1.]\n",
      " ...\n",
      " [1. 1. 1. ... 1. 1. 1.]\n",
      " [1. 1. 1. ... 1. 1. 1.]\n",
      " [1. 1. 1. ... 1. 1. 1.]]\n"
     ]
    }
   ],
   "source": [
    "# read back from the zip file\n",
    "store = ZipStore(\"Testing/snapshot.zip\", mode=\"r\")\n",
    "za = zarr.open(store=store, mode=\"r\")\n",
    "print(za[:])"
   ]
  },
  {
   "cell_type": "markdown",
   "id": "94586c34",
   "metadata": {},
   "source": [
    "## Create a data manager classes to handle Zarr stores"
   ]
  },
  {
   "cell_type": "code",
   "execution_count": null,
   "id": "e1866d55",
   "metadata": {},
   "outputs": [],
   "source": [
    "\"\"\"DATA STRUCTURE:\n",
    "root\n",
    "  {Metadata}\n",
    "  |-- Experiments\n",
    "       |-- E1 (100, 100)\n",
    "            {EMetadata}\n",
    "       |-- E2 (40, 40)\n",
    "            {EMetadata}\n",
    "  |-- Results\n",
    "       |-- R1 (20, 20)\n",
    "       |-- R2 (20, 20)\n",
    "\n",
    "\"\"\"\n",
    "class ZarrDataManager:\n",
    "    def __init__(self, zarr_path):\n",
    "        self.store = zarr.open(zarr_path, mode='a')\n",
    "        if 'Experiments' not in self.store:\n",
    "            self.store.create_group('Experiments')\n",
    "        if 'Results' not in self.store:\n",
    "            self.store.create_group('Results')\n",
    "\n",
    "    def write_metadata_root(self, key, value):\n",
    "        self.store.attrs[key] = value\n",
    "\n",
    "    def get_metadata_root(self):\n",
    "        return self.store.attrs.asdict()\n",
    "    \n",
    "    def add_experiment(self, name, data, metadata=None):\n",
    "        exp_group = self.store['Experiments'].create_group(name)\n",
    "        exp_group.create_array('data', data=data, chunks=(50, 50))\n",
    "        if metadata:\n",
    "            for key, value in metadata.items():\n",
    "                exp_group.attrs[key] = value\n",
    "\n",
    "    def add_result(self, name, data):\n",
    "        res_group = self.store['Results'].create_group(name)\n",
    "        res_group.create_array('data', data=data, chunks=(20, 20))\n",
    "\n",
    "    def get_experiment(self, name):\n",
    "        return self.store['Experiments'][name]['data'][:], self.store['Experiments'][name].attrs.asdict()\n",
    "\n",
    "    def analyse_experiment(self, name):\n",
    "        data = self.store['Experiments'][name]['data'][:]\n",
    "        results = data[:20, :20]\n",
    "        self.add_result(name, results)\n",
    "\n",
    "    def get_result(self, name):\n",
    "        return self.store['Results'][name]['data'][:]\n",
    "\n",
    "\n",
    "# Example usage\n",
    "zarr_path = 'Testing/complex_data.zarr'\n",
    "manager = ZarrDataManager(zarr_path)\n",
    "manager.write_metadata_root('description', 'Complex data structure with experiments and results')\n",
    "manager.write_metadata_root('version', '1.0')\n",
    "print(\"Root metadata:\", manager.get_metadata_root())\n",
    "manager.add_experiment('E1', np.random.rand(100, 100).astype('float32'), {'type': 'test', 'date': '2024-10-01'})\n",
    "manager.add_experiment('E2', np.random.rand(40, 40).astype('float32'), {'type': 'control', 'date': '2024-10-02'})\n",
    "data_e1, meta_e1 = manager.get_experiment('E1')\n",
    "print(\"Experiment E1 data shape:\", data_e1.shape)\n",
    "print(\"Experiment E1 metadata:\", meta_e1)\n",
    "manager.analyse_experiment('E1')\n",
    "result_e1 = manager.get_result('E1')\n",
    "print(\"Result E1 data shape:\", result_e1.shape)\n"
   ]
  },
  {
   "cell_type": "markdown",
   "id": "c8c28087",
   "metadata": {},
   "source": [
    "## Using Zarr in a Pytorch DataLoader"
   ]
  },
  {
   "cell_type": "code",
   "execution_count": null,
   "id": "293577dd",
   "metadata": {},
   "outputs": [],
   "source": [
    "# Example of integrating Zarr with PyTorch DataLoader: Minimal boilerplate code\n",
    "import torch\n",
    "from torch.utils.data import Dataset, DataLoader\n",
    "\n",
    "class ZarrDataset(Dataset):\n",
    "    def __init__(self, zarr_store:str):\n",
    "        self.zarr_store = zarr.open(zarr_store, mode='r')\n",
    "\n",
    "    def __len__(self):\n",
    "        return self.zarr_store.shape[0]\n",
    "\n",
    "    def __getitem__(self, idx):\n",
    "        return self.zarr_store[idx]\n",
    "\n",
    "data_loader_params = {\n",
    "    'batch_size': 32,\n",
    "    'shuffle': True,\n",
    "    'num_workers': 4\n",
    "}\n",
    "\n",
    "zarr_loader = DataLoader(ZarrDataset('example.zarr'), **data_loader_params)"
   ]
  }
 ],
 "metadata": {
  "kernelspec": {
   "display_name": "zarr_demo_v3",
   "language": "python",
   "name": "python3"
  },
  "language_info": {
   "codemirror_mode": {
    "name": "ipython",
    "version": 3
   },
   "file_extension": ".py",
   "mimetype": "text/x-python",
   "name": "python",
   "nbconvert_exporter": "python",
   "pygments_lexer": "ipython3",
   "version": "3.12.11"
  }
 },
 "nbformat": 4,
 "nbformat_minor": 5
}
